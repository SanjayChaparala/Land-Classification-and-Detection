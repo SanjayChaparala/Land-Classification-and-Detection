{
 "cells": [
  {
   "cell_type": "code",
   "execution_count": 1,
   "metadata": {},
   "outputs": [],
   "source": [
    "# import torch\n",
    "# from PIL import Image\n",
    "# import PIL\n",
    "\n",
    "# model = torch.hub.load('ultralytics/yolov5', 'custom', path='./weights/best.pt')\n",
    "\n",
    "# def detect_and_count_bboxes(image_path):\n",
    "#     img = Image.open(image_path)\n",
    "#     results = model(img)  \n",
    "#     results.save('daruthenga_other_own.png')\n",
    "#     global bboxes\n",
    "\n",
    "#     bboxes = results.pandas().xyxy[0]\n",
    "\n",
    "#     num_bboxes = len(bboxes)\n",
    "\n",
    "#     #results.show()\n",
    "\n",
    "#     return num_bboxes\n",
    "\n",
    "# image_path = 'G:/datascience/company_assignments/vision/yolo/daruthenga.png'\n",
    "\n",
    "# num_bboxes = detect_and_count_bboxes(image_path)\n",
    "# print(\"Number of buildings\", num_bboxes)"
   ]
  },
  {
   "cell_type": "code",
   "execution_count": 1,
   "metadata": {},
   "outputs": [],
   "source": [
    "from PIL import Image\n",
    "\n",
    "def split_image(image, num_rows, num_cols):\n",
    "    width, height = image.size\n",
    "    small_width = width // num_cols\n",
    "    small_height = height // num_rows\n",
    "\n",
    "    smaller_images = []\n",
    "    for row in range(num_rows):\n",
    "        for col in range(num_cols):\n",
    "            x1 = col * small_width\n",
    "            y1 = row * small_height\n",
    "            x2 = x1 + small_width\n",
    "            y2 = y1 + small_height\n",
    "\n",
    "            smaller_img = image.crop((x1, y1, x2, y2))\n",
    "            smaller_images.append(smaller_img)\n",
    "\n",
    "    return smaller_images, small_width, small_height\n",
    "\n",
    "def process_images(smaller_images):\n",
    "    processed_images = []\n",
    "    for img in smaller_images:\n",
    "        # Apply your image processing techniques here\n",
    "        processed_images.append(img)  # Replace this with your processing logic\n",
    "\n",
    "    return processed_images\n",
    "\n",
    "def reassemble_images(processed_images, num_rows, num_cols, small_width, small_height):\n",
    "    total_width = num_cols * small_width\n",
    "    total_height = num_rows * small_height\n",
    "    result_image = Image.new(\"RGB\", (total_width, total_height))\n",
    "\n",
    "    for row in range(num_rows):\n",
    "        for col in range(num_cols):\n",
    "            x1 = col * small_width\n",
    "            y1 = row * small_height\n",
    "            result_image.paste(processed_images[row * num_cols + col], (x1, y1))\n",
    "\n",
    "    return result_image"
   ]
  },
  {
   "cell_type": "code",
   "execution_count": 2,
   "metadata": {},
   "outputs": [],
   "source": [
    "original_image = Image.open(\"./input_images/daruthenga.png\")\n",
    "\n",
    "num_rows = 6\n",
    "num_cols = 6\n",
    "smaller_images, small_width, small_height = split_image(original_image, num_rows, num_cols)"
   ]
  },
  {
   "cell_type": "code",
   "execution_count": 3,
   "metadata": {},
   "outputs": [],
   "source": [
    "import matplotlib.pyplot as plt\n",
    "from PIL import Image\n",
    "\n",
    "# Load the original image\n",
    "original_image = Image.open(\"./input_images/daruthenga.png\")\n",
    "\n",
    "num_rows = 6  # Number of rows to split the image into\n",
    "num_cols = 6  # Number of columns to split the image into\n",
    "\n",
    "# Calculate dimensions of smaller images\n",
    "small_width = original_image.width // num_cols\n",
    "small_height = original_image.height // num_rows\n",
    "\n",
    "# Split the original image into smaller images\n",
    "smaller_images = []\n",
    "for row in range(num_rows):\n",
    "    for col in range(num_cols):\n",
    "        x1 = col * small_width\n",
    "        y1 = row * small_height\n",
    "        x2 = x1 + small_width\n",
    "        y2 = y1 + small_height\n",
    "\n",
    "        smaller_img = original_image.crop((x1, y1, x2, y2))\n",
    "        smaller_images.append(smaller_img)"
   ]
  },
  {
   "cell_type": "code",
   "execution_count": 4,
   "metadata": {},
   "outputs": [],
   "source": [
    "counter = 0\n",
    "for i in smaller_images:\n",
    "    filename = f'./test_images/image_{counter}.png'  \n",
    "    i.save(filename)\n",
    "    counter += 1"
   ]
  },
  {
   "cell_type": "code",
   "execution_count": 5,
   "metadata": {},
   "outputs": [
    {
     "name": "stderr",
     "output_type": "stream",
     "text": [
      "Using cache found in C:\\Users\\pavan/.cache\\torch\\hub\\ultralytics_yolov5_master\n",
      "YOLOv5  2023-8-10 Python-3.10.11 torch-2.0.1+cpu CPU\n",
      "\n",
      "Fusing layers... \n",
      "custom_YOLOv5s summary: 232 layers, 7251912 parameters, 0 gradients\n",
      "Adding AutoShape... \n"
     ]
    }
   ],
   "source": [
    "import torch\n",
    "from PIL import Image\n",
    "import os\n",
    "\n",
    "model = torch.hub.load('ultralytics/yolov5', 'custom', path='./weights/best_new_8-9.pt')\n",
    "\n",
    "def detect_and_count_bboxes(image_path, i):\n",
    "    img = Image.open(image_path)\n",
    "    results = model(img)  \n",
    "    results.save(f'./test_outputs/{i}.jpg')\n",
    "    bboxes = results.pandas().xyxy[0]\n",
    "\n",
    "    total_available_area = img.height * img.width\n",
    "    total_area_covered = 0\n",
    "\n",
    "    for bbox in bboxes.values:\n",
    "        width = bbox[2] - bbox[0]\n",
    "        height = bbox[3] - bbox[1]\n",
    "        area = width * height\n",
    "        total_area_covered += area\n",
    "\n",
    "    coverage_percentage = (total_area_covered / total_available_area) * 100\n",
    "    num_bboxes = len(bboxes)\n",
    "    return num_bboxes, coverage_percentage, total_available_area"
   ]
  },
  {
   "cell_type": "code",
   "execution_count": 6,
   "metadata": {},
   "outputs": [
    {
     "name": "stderr",
     "output_type": "stream",
     "text": [
      "Saved 1 image to \u001b[1mruns\\detect\\exp\u001b[0m\n"
     ]
    },
    {
     "name": "stdout",
     "output_type": "stream",
     "text": [
      "Number of buildings in image image_0.png 6\n"
     ]
    },
    {
     "name": "stderr",
     "output_type": "stream",
     "text": [
      "Saved 1 image to \u001b[1mruns\\detect\\exp2\u001b[0m\n"
     ]
    },
    {
     "name": "stdout",
     "output_type": "stream",
     "text": [
      "Number of buildings in image image_1.png 22\n"
     ]
    },
    {
     "name": "stderr",
     "output_type": "stream",
     "text": [
      "Saved 1 image to \u001b[1mruns\\detect\\exp3\u001b[0m\n"
     ]
    },
    {
     "name": "stdout",
     "output_type": "stream",
     "text": [
      "Number of buildings in image image_10.png 6\n"
     ]
    },
    {
     "name": "stderr",
     "output_type": "stream",
     "text": [
      "Saved 1 image to \u001b[1mruns\\detect\\exp4\u001b[0m\n"
     ]
    },
    {
     "name": "stdout",
     "output_type": "stream",
     "text": [
      "Number of buildings in image image_11.png 6\n"
     ]
    },
    {
     "name": "stderr",
     "output_type": "stream",
     "text": [
      "Saved 1 image to \u001b[1mruns\\detect\\exp5\u001b[0m\n"
     ]
    },
    {
     "name": "stdout",
     "output_type": "stream",
     "text": [
      "Number of buildings in image image_12.png 22\n"
     ]
    },
    {
     "name": "stderr",
     "output_type": "stream",
     "text": [
      "Saved 1 image to \u001b[1mruns\\detect\\exp6\u001b[0m\n"
     ]
    },
    {
     "name": "stdout",
     "output_type": "stream",
     "text": [
      "Number of buildings in image image_13.png 33\n"
     ]
    },
    {
     "name": "stderr",
     "output_type": "stream",
     "text": [
      "Saved 1 image to \u001b[1mruns\\detect\\exp7\u001b[0m\n"
     ]
    },
    {
     "name": "stdout",
     "output_type": "stream",
     "text": [
      "Number of buildings in image image_14.png 46\n"
     ]
    },
    {
     "name": "stderr",
     "output_type": "stream",
     "text": [
      "Saved 1 image to \u001b[1mruns\\detect\\exp8\u001b[0m\n"
     ]
    },
    {
     "name": "stdout",
     "output_type": "stream",
     "text": [
      "Number of buildings in image image_15.png 101\n"
     ]
    },
    {
     "name": "stderr",
     "output_type": "stream",
     "text": [
      "Saved 1 image to \u001b[1mruns\\detect\\exp9\u001b[0m\n"
     ]
    },
    {
     "name": "stdout",
     "output_type": "stream",
     "text": [
      "Number of buildings in image image_16.png 49\n"
     ]
    },
    {
     "name": "stderr",
     "output_type": "stream",
     "text": [
      "Saved 1 image to \u001b[1mruns\\detect\\exp10\u001b[0m\n"
     ]
    },
    {
     "name": "stdout",
     "output_type": "stream",
     "text": [
      "Number of buildings in image image_17.png 18\n"
     ]
    },
    {
     "name": "stderr",
     "output_type": "stream",
     "text": [
      "Saved 1 image to \u001b[1mruns\\detect\\exp11\u001b[0m\n"
     ]
    },
    {
     "name": "stdout",
     "output_type": "stream",
     "text": [
      "Number of buildings in image image_18.png 4\n"
     ]
    },
    {
     "name": "stderr",
     "output_type": "stream",
     "text": [
      "Saved 1 image to \u001b[1mruns\\detect\\exp12\u001b[0m\n"
     ]
    },
    {
     "name": "stdout",
     "output_type": "stream",
     "text": [
      "Number of buildings in image image_19.png 13\n"
     ]
    },
    {
     "name": "stderr",
     "output_type": "stream",
     "text": [
      "Saved 1 image to \u001b[1mruns\\detect\\exp13\u001b[0m\n"
     ]
    },
    {
     "name": "stdout",
     "output_type": "stream",
     "text": [
      "Number of buildings in image image_2.png 22\n"
     ]
    },
    {
     "name": "stderr",
     "output_type": "stream",
     "text": [
      "Saved 1 image to \u001b[1mruns\\detect\\exp14\u001b[0m\n"
     ]
    },
    {
     "name": "stdout",
     "output_type": "stream",
     "text": [
      "Number of buildings in image image_20.png 44\n"
     ]
    },
    {
     "name": "stderr",
     "output_type": "stream",
     "text": [
      "Saved 1 image to \u001b[1mruns\\detect\\exp15\u001b[0m\n"
     ]
    },
    {
     "name": "stdout",
     "output_type": "stream",
     "text": [
      "Number of buildings in image image_21.png 109\n"
     ]
    },
    {
     "name": "stderr",
     "output_type": "stream",
     "text": [
      "Saved 1 image to \u001b[1mruns\\detect\\exp16\u001b[0m\n"
     ]
    },
    {
     "name": "stdout",
     "output_type": "stream",
     "text": [
      "Number of buildings in image image_22.png 85\n"
     ]
    },
    {
     "name": "stderr",
     "output_type": "stream",
     "text": [
      "Saved 1 image to \u001b[1mruns\\detect\\exp17\u001b[0m\n"
     ]
    },
    {
     "name": "stdout",
     "output_type": "stream",
     "text": [
      "Number of buildings in image image_23.png 27\n"
     ]
    },
    {
     "name": "stderr",
     "output_type": "stream",
     "text": [
      "Saved 1 image to \u001b[1mruns\\detect\\exp18\u001b[0m\n"
     ]
    },
    {
     "name": "stdout",
     "output_type": "stream",
     "text": [
      "Number of buildings in image image_24.png 1\n"
     ]
    },
    {
     "name": "stderr",
     "output_type": "stream",
     "text": [
      "Saved 1 image to \u001b[1mruns\\detect\\exp19\u001b[0m\n"
     ]
    },
    {
     "name": "stdout",
     "output_type": "stream",
     "text": [
      "Number of buildings in image image_25.png 1\n"
     ]
    },
    {
     "name": "stderr",
     "output_type": "stream",
     "text": [
      "Saved 1 image to \u001b[1mruns\\detect\\exp20\u001b[0m\n"
     ]
    },
    {
     "name": "stdout",
     "output_type": "stream",
     "text": [
      "Number of buildings in image image_26.png 20\n"
     ]
    },
    {
     "name": "stderr",
     "output_type": "stream",
     "text": [
      "Saved 1 image to \u001b[1mruns\\detect\\exp21\u001b[0m\n"
     ]
    },
    {
     "name": "stdout",
     "output_type": "stream",
     "text": [
      "Number of buildings in image image_27.png 66\n"
     ]
    },
    {
     "name": "stderr",
     "output_type": "stream",
     "text": [
      "Saved 1 image to \u001b[1mruns\\detect\\exp22\u001b[0m\n"
     ]
    },
    {
     "name": "stdout",
     "output_type": "stream",
     "text": [
      "Number of buildings in image image_28.png 52\n"
     ]
    },
    {
     "name": "stderr",
     "output_type": "stream",
     "text": [
      "Saved 1 image to \u001b[1mruns\\detect\\exp23\u001b[0m\n"
     ]
    },
    {
     "name": "stdout",
     "output_type": "stream",
     "text": [
      "Number of buildings in image image_29.png 10\n"
     ]
    },
    {
     "name": "stderr",
     "output_type": "stream",
     "text": [
      "Saved 1 image to \u001b[1mruns\\detect\\exp24\u001b[0m\n"
     ]
    },
    {
     "name": "stdout",
     "output_type": "stream",
     "text": [
      "Number of buildings in image image_3.png 35\n"
     ]
    },
    {
     "name": "stderr",
     "output_type": "stream",
     "text": [
      "Saved 1 image to \u001b[1mruns\\detect\\exp25\u001b[0m\n"
     ]
    },
    {
     "name": "stdout",
     "output_type": "stream",
     "text": [
      "Number of buildings in image image_30.png 2\n"
     ]
    },
    {
     "name": "stderr",
     "output_type": "stream",
     "text": [
      "Saved 1 image to \u001b[1mruns\\detect\\exp26\u001b[0m\n"
     ]
    },
    {
     "name": "stdout",
     "output_type": "stream",
     "text": [
      "Number of buildings in image image_31.png 0\n"
     ]
    },
    {
     "name": "stderr",
     "output_type": "stream",
     "text": [
      "Saved 1 image to \u001b[1mruns\\detect\\exp27\u001b[0m\n"
     ]
    },
    {
     "name": "stdout",
     "output_type": "stream",
     "text": [
      "Number of buildings in image image_32.png 0\n"
     ]
    },
    {
     "name": "stderr",
     "output_type": "stream",
     "text": [
      "Saved 1 image to \u001b[1mruns\\detect\\exp28\u001b[0m\n"
     ]
    },
    {
     "name": "stdout",
     "output_type": "stream",
     "text": [
      "Number of buildings in image image_33.png 0\n"
     ]
    },
    {
     "name": "stderr",
     "output_type": "stream",
     "text": [
      "Saved 1 image to \u001b[1mruns\\detect\\exp29\u001b[0m\n"
     ]
    },
    {
     "name": "stdout",
     "output_type": "stream",
     "text": [
      "Number of buildings in image image_34.png 1\n"
     ]
    },
    {
     "name": "stderr",
     "output_type": "stream",
     "text": [
      "Saved 1 image to \u001b[1mruns\\detect\\exp30\u001b[0m\n"
     ]
    },
    {
     "name": "stdout",
     "output_type": "stream",
     "text": [
      "Number of buildings in image image_35.png 3\n"
     ]
    },
    {
     "name": "stderr",
     "output_type": "stream",
     "text": [
      "Saved 1 image to \u001b[1mruns\\detect\\exp31\u001b[0m\n"
     ]
    },
    {
     "name": "stdout",
     "output_type": "stream",
     "text": [
      "Number of buildings in image image_4.png 69\n"
     ]
    },
    {
     "name": "stderr",
     "output_type": "stream",
     "text": [
      "Saved 1 image to \u001b[1mruns\\detect\\exp32\u001b[0m\n"
     ]
    },
    {
     "name": "stdout",
     "output_type": "stream",
     "text": [
      "Number of buildings in image image_5.png 11\n"
     ]
    },
    {
     "name": "stderr",
     "output_type": "stream",
     "text": [
      "Saved 1 image to \u001b[1mruns\\detect\\exp33\u001b[0m\n"
     ]
    },
    {
     "name": "stdout",
     "output_type": "stream",
     "text": [
      "Number of buildings in image image_6.png 8\n"
     ]
    },
    {
     "name": "stderr",
     "output_type": "stream",
     "text": [
      "Saved 1 image to \u001b[1mruns\\detect\\exp34\u001b[0m\n"
     ]
    },
    {
     "name": "stdout",
     "output_type": "stream",
     "text": [
      "Number of buildings in image image_7.png 11\n"
     ]
    },
    {
     "name": "stderr",
     "output_type": "stream",
     "text": [
      "Saved 1 image to \u001b[1mruns\\detect\\exp35\u001b[0m\n"
     ]
    },
    {
     "name": "stdout",
     "output_type": "stream",
     "text": [
      "Number of buildings in image image_8.png 33\n"
     ]
    },
    {
     "name": "stderr",
     "output_type": "stream",
     "text": [
      "Saved 1 image to \u001b[1mruns\\detect\\exp36\u001b[0m\n"
     ]
    },
    {
     "name": "stdout",
     "output_type": "stream",
     "text": [
      "Number of buildings in image image_9.png 53\n"
     ]
    }
   ],
   "source": [
    "total_coverage = []\n",
    "for i in os.listdir('./test_images/'):\n",
    "    num_bboxes, coverage, total_available_area = detect_and_count_bboxes(f'./test_images/{i}', i)\n",
    "    print(f\"Number of buildings in image {i}\", num_bboxes)\n",
    "    total_coverage.append(coverage)"
   ]
  },
  {
   "cell_type": "code",
   "execution_count": 7,
   "metadata": {},
   "outputs": [],
   "source": [
    "from PIL import Image\n",
    "import os\n",
    "import re\n",
    "\n",
    "base_directory = r'G:\\datascience\\company_assignments\\vision\\yolo\\runs\\detect'\n",
    "\n",
    "all_images = []\n",
    "\n",
    "for folder_name in os.listdir(base_directory):\n",
    "    folder_path = os.path.join(base_directory, folder_name)\n",
    "    if os.path.isdir(folder_path):\n",
    "        for image_name in os.listdir(folder_path):\n",
    "            if image_name.endswith('.jpg'):  \n",
    "                image_path = os.path.join(folder_path, image_name)\n",
    "                all_images.append(image_path)\n",
    "\n",
    "def get_exp_number(path):\n",
    "    return int(re.search(r'image_(\\d+)', path).group(1))\n",
    "\n",
    "sorted_paths = sorted(all_images, key=get_exp_number)"
   ]
  },
  {
   "cell_type": "code",
   "execution_count": 8,
   "metadata": {},
   "outputs": [],
   "source": [
    "final_images = []\n",
    "for i in sorted_paths:\n",
    "    image = Image.open(i)\n",
    "    final_images.append(image)"
   ]
  },
  {
   "cell_type": "code",
   "execution_count": 9,
   "metadata": {},
   "outputs": [],
   "source": [
    "processed_images = process_images(final_images)\n",
    "\n",
    "result_image = reassemble_images(final_images, num_rows, num_cols, small_width, small_height)\n",
    "\n",
    "result_image.save(\"./shyamsundarpur_processed_result.jpg\")"
   ]
  },
  {
   "cell_type": "code",
   "execution_count": 10,
   "metadata": {},
   "outputs": [
    {
     "data": {
      "text/plain": [
       "3.543733843610872"
      ]
     },
     "execution_count": 10,
     "metadata": {},
     "output_type": "execute_result"
    }
   ],
   "source": [
    "sum(total_coverage)/len(total_coverage)"
   ]
  },
  {
   "cell_type": "code",
   "execution_count": null,
   "metadata": {},
   "outputs": [],
   "source": []
  },
  {
   "cell_type": "code",
   "execution_count": null,
   "metadata": {},
   "outputs": [],
   "source": []
  }
 ],
 "metadata": {
  "kernelspec": {
   "display_name": "gpu_env",
   "language": "python",
   "name": "python3"
  },
  "language_info": {
   "codemirror_mode": {
    "name": "ipython",
    "version": 3
   },
   "file_extension": ".py",
   "mimetype": "text/x-python",
   "name": "python",
   "nbconvert_exporter": "python",
   "pygments_lexer": "ipython3",
   "version": "3.10.11"
  },
  "orig_nbformat": 4
 },
 "nbformat": 4,
 "nbformat_minor": 2
}
